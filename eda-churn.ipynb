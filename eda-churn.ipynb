{
 "cells": [
  {
   "cell_type": "markdown",
   "id": "1380efd4",
   "metadata": {},
   "source": [
    "Estudos sobre o dataframe \"Churn_Modelling.csv\" retirado do Kaggle."
   ]
  },
  {
   "cell_type": "code",
   "execution_count": 77,
   "id": "54b3266a",
   "metadata": {},
   "outputs": [],
   "source": [
    "import pandas as pd\n",
    "import numpy as np\n",
    "import matplotlib.pyplot as plt\n",
    "import seaborn as sns\n"
   ]
  },
  {
   "cell_type": "code",
   "execution_count": 14,
   "id": "321c9c11",
   "metadata": {},
   "outputs": [],
   "source": [
    "df = pd.read_csv(\"Churn_Modelling.csv\", index_col=0)"
   ]
  },
  {
   "cell_type": "markdown",
   "id": "53f80921",
   "metadata": {},
   "source": [
    "Bloco 1: Análise Inicial e Limpeza (O \"Check-up\" dos Dados). O objetivo aqui é sentir o formato e a saúde geral dos seus dados.\n",
    "\n",
    "Estrutura Básica:"
   ]
  },
  {
   "cell_type": "markdown",
   "id": "d7b50427",
   "metadata": {},
   "source": [
    "1) Quantas linhas (clientes) e colunas (variáveis) o conjunto de dados possui?"
   ]
  },
  {
   "cell_type": "code",
   "execution_count": 15,
   "id": "c4b67fba",
   "metadata": {},
   "outputs": [
    {
     "name": "stdout",
     "output_type": "stream",
     "text": [
      "(10002, 13)\n"
     ]
    }
   ],
   "source": [
    "print(df.shape)"
   ]
  },
  {
   "cell_type": "markdown",
   "id": "cb68ed81",
   "metadata": {},
   "source": [
    "2. Quais são os tipos de dados de cada coluna (número, texto, etc.)?"
   ]
  },
  {
   "cell_type": "code",
   "execution_count": null,
   "id": "62c1af6a",
   "metadata": {},
   "outputs": [
    {
     "name": "stdout",
     "output_type": "stream",
     "text": [
      "CustomerId         0\n",
      "Surname            0\n",
      "CreditScore        0\n",
      "Geography          1\n",
      "Gender             0\n",
      "Age                1\n",
      "Tenure             0\n",
      "Balance            0\n",
      "NumOfProducts      0\n",
      "HasCrCard          1\n",
      "IsActiveMember     1\n",
      "EstimatedSalary    0\n",
      "Exited             0\n",
      "dtype: int64\n"
     ]
    }
   ],
   "source": []
  },
  {
   "cell_type": "markdown",
   "id": "08073481",
   "metadata": {},
   "source": [
    "3. Existem colunas que parecem ser apenas identificadores e que não devem ser usadas em análises, como RowNumber, CustomerId e Surname\n",
    "\n",
    "Sim: CustomerId e Surname."
   ]
  },
  {
   "cell_type": "markdown",
   "id": "fc592b5e",
   "metadata": {},
   "source": [
    "4. Existem valores ausentes (nulos) em alguma coluna? Se sim, em quais e quantos? Qual seria uma boa estratégia para lidar com eles?"
   ]
  },
  {
   "cell_type": "code",
   "execution_count": 19,
   "id": "5f2c8252",
   "metadata": {},
   "outputs": [
    {
     "name": "stdout",
     "output_type": "stream",
     "text": [
      "CustomerId         0\n",
      "Surname            0\n",
      "CreditScore        0\n",
      "Geography          1\n",
      "Gender             0\n",
      "Age                1\n",
      "Tenure             0\n",
      "Balance            0\n",
      "NumOfProducts      0\n",
      "HasCrCard          1\n",
      "IsActiveMember     1\n",
      "EstimatedSalary    0\n",
      "Exited             0\n",
      "dtype: int64\n"
     ]
    }
   ],
   "source": [
    "print(df.isnull().sum())"
   ]
  },
  {
   "cell_type": "markdown",
   "id": "4b074468",
   "metadata": {},
   "source": [
    "Há 4 valores ausentes nesse dataset. A melhor estratégia, nesse caso, considerando que é um grande dataset e que há poucos dados ausentes, é excluir a linha, pois não irá impactar a análise ou desempenho de um modelo de ML. É um método seguro pois não iremos imputar dados, o que poderia introduzir um viés na análise. Apenas dados reais serão trabalhados nesse cenário. "
   ]
  },
  {
   "cell_type": "code",
   "execution_count": 22,
   "id": "dd49429e",
   "metadata": {},
   "outputs": [
    {
     "name": "stdout",
     "output_type": "stream",
     "text": [
      "Número de linhas antes da remoção de dados ausentes: 10002\n"
     ]
    }
   ],
   "source": [
    "print(f'Número de linhas antes da remoção de dados ausentes: {len(df)}')"
   ]
  },
  {
   "cell_type": "code",
   "execution_count": 24,
   "id": "1f1da6d8",
   "metadata": {},
   "outputs": [],
   "source": [
    "df_limpo = df.dropna()"
   ]
  },
  {
   "cell_type": "code",
   "execution_count": 25,
   "id": "f11061bb",
   "metadata": {},
   "outputs": [
    {
     "name": "stdout",
     "output_type": "stream",
     "text": [
      "Número de linhas após a remoção de dados ausentes: 9998\n"
     ]
    }
   ],
   "source": [
    "print(f'Número de linhas após a remoção de dados ausentes: {len(df_limpo)}')"
   ]
  },
  {
   "cell_type": "code",
   "execution_count": 26,
   "id": "e646e674",
   "metadata": {},
   "outputs": [
    {
     "name": "stdout",
     "output_type": "stream",
     "text": [
      "CustomerId         0\n",
      "Surname            0\n",
      "CreditScore        0\n",
      "Geography          0\n",
      "Gender             0\n",
      "Age                0\n",
      "Tenure             0\n",
      "Balance            0\n",
      "NumOfProducts      0\n",
      "HasCrCard          0\n",
      "IsActiveMember     0\n",
      "EstimatedSalary    0\n",
      "Exited             0\n",
      "dtype: int64\n"
     ]
    }
   ],
   "source": [
    "print(df_limpo.isnull().sum())"
   ]
  },
  {
   "cell_type": "markdown",
   "id": "50927bf1",
   "metadata": {},
   "source": [
    "Existem linhas duplicadas no conjunto de dados?"
   ]
  },
  {
   "cell_type": "code",
   "execution_count": 33,
   "id": "3764189a",
   "metadata": {},
   "outputs": [
    {
     "name": "stdout",
     "output_type": "stream",
     "text": [
      "2\n"
     ]
    }
   ],
   "source": [
    "print(df.duplicated().sum())"
   ]
  },
  {
   "cell_type": "code",
   "execution_count": 29,
   "id": "9e1586cd",
   "metadata": {},
   "outputs": [
    {
     "name": "stdout",
     "output_type": "stream",
     "text": [
      "           CustomerId    Surname  CreditScore Geography  Gender   Age  Tenure  \\\n",
      "RowNumber                                                                       \n",
      "9999         15682355  Sabbatini          772   Germany    Male  42.0       3   \n",
      "9999         15682355  Sabbatini          772   Germany    Male  42.0       3   \n",
      "10000        15628319     Walker          792    France  Female  28.0       4   \n",
      "10000        15628319     Walker          792    France  Female  28.0       4   \n",
      "\n",
      "             Balance  NumOfProducts  HasCrCard  IsActiveMember  \\\n",
      "RowNumber                                                        \n",
      "9999        75075.31              2        1.0             0.0   \n",
      "9999        75075.31              2        1.0             0.0   \n",
      "10000      130142.79              1        1.0             0.0   \n",
      "10000      130142.79              1        1.0             0.0   \n",
      "\n",
      "           EstimatedSalary  Exited  \n",
      "RowNumber                           \n",
      "9999              92888.52       1  \n",
      "9999              92888.52       1  \n",
      "10000             38190.78       0  \n",
      "10000             38190.78       0  \n"
     ]
    }
   ],
   "source": [
    "print(df[df.duplicated(keep=False)])\n"
   ]
  },
  {
   "cell_type": "code",
   "execution_count": 30,
   "id": "6ccb8472",
   "metadata": {},
   "outputs": [],
   "source": [
    "df_semduplicados = df.drop_duplicates()"
   ]
  },
  {
   "cell_type": "code",
   "execution_count": 32,
   "id": "96bb54dc",
   "metadata": {},
   "outputs": [
    {
     "name": "stdout",
     "output_type": "stream",
     "text": [
      "0\n"
     ]
    }
   ],
   "source": [
    "print(df_semduplicados.duplicated().sum())"
   ]
  },
  {
   "cell_type": "markdown",
   "id": "f9d16dda",
   "metadata": {},
   "source": [
    "Olhando as estatísticas descritivas (df.describe()), há algo estranho? (Ex: idade negativa, CreditScore muito baixo ou muito alto, etc.)."
   ]
  },
  {
   "cell_type": "code",
   "execution_count": 34,
   "id": "b565b3d7",
   "metadata": {},
   "outputs": [
    {
     "name": "stdout",
     "output_type": "stream",
     "text": [
      "         CustomerId   CreditScore          Age        Tenure        Balance  \\\n",
      "count  1.000000e+04  10000.000000  9999.000000  10000.000000   10000.000000   \n",
      "mean   1.569094e+07    650.528800    38.923095      5.012800   76485.889288   \n",
      "std    7.193619e+04     96.653299    10.487635      2.892174   62397.405202   \n",
      "min    1.556570e+07    350.000000    18.000000      0.000000       0.000000   \n",
      "25%    1.562853e+07    584.000000    32.000000      3.000000       0.000000   \n",
      "50%    1.569074e+07    652.000000    37.000000      5.000000   97198.540000   \n",
      "75%    1.575323e+07    718.000000    44.000000      7.000000  127644.240000   \n",
      "max    1.581569e+07    850.000000    92.000000     10.000000  250898.090000   \n",
      "\n",
      "       NumOfProducts    HasCrCard  IsActiveMember  EstimatedSalary  \\\n",
      "count   10000.000000  9999.000000     9999.000000     10000.000000   \n",
      "mean        1.530200     0.705471        0.515052    100090.239881   \n",
      "std         0.581654     0.455854        0.499798     57510.492818   \n",
      "min         1.000000     0.000000        0.000000        11.580000   \n",
      "25%         1.000000     0.000000        0.000000     51002.110000   \n",
      "50%         1.000000     1.000000        1.000000    100193.915000   \n",
      "75%         2.000000     1.000000        1.000000    149388.247500   \n",
      "max         4.000000     1.000000        1.000000    199992.480000   \n",
      "\n",
      "             Exited  \n",
      "count  10000.000000  \n",
      "mean       0.203700  \n",
      "std        0.402769  \n",
      "min        0.000000  \n",
      "25%        0.000000  \n",
      "50%        0.000000  \n",
      "75%        0.000000  \n",
      "max        1.000000  \n"
     ]
    }
   ],
   "source": [
    "print(df_semduplicados.describe())"
   ]
  },
  {
   "cell_type": "markdown",
   "id": "c4cee009",
   "metadata": {},
   "source": [
    "Bloco 2: Análise Univariada (Analisando Uma Variável por Vez)\n",
    "O objetivo é entender a distribuição e as características de cada variável individualmente."
   ]
  },
  {
   "cell_type": "markdown",
   "id": "a02d9eed",
   "metadata": {},
   "source": [
    "Qual é a proporção de clientes que cancelaram a conta (Exited = 1) e que permaneceram (Exited = 0)?"
   ]
  },
  {
   "cell_type": "code",
   "execution_count": 40,
   "id": "6e62a329",
   "metadata": {},
   "outputs": [
    {
     "name": "stderr",
     "output_type": "stream",
     "text": [
      "C:\\Users\\Pessoal\\AppData\\Local\\Temp\\ipykernel_1692\\3086526871.py:1: SettingWithCopyWarning: \n",
      "A value is trying to be set on a copy of a slice from a DataFrame.\n",
      "Try using .loc[row_indexer,col_indexer] = value instead\n",
      "\n",
      "See the caveats in the documentation: https://pandas.pydata.org/pandas-docs/stable/user_guide/indexing.html#returning-a-view-versus-a-copy\n",
      "  df_semduplicados['Exited'] = df_semduplicados['Exited'].astype(str)\n"
     ]
    }
   ],
   "source": [
    "df_semduplicados['Exited'] = df_semduplicados['Exited'].astype(str)"
   ]
  },
  {
   "cell_type": "code",
   "execution_count": 41,
   "id": "a63d2f0d",
   "metadata": {},
   "outputs": [
    {
     "name": "stdout",
     "output_type": "stream",
     "text": [
      "object\n"
     ]
    }
   ],
   "source": [
    "print(df_semduplicados['Exited'].dtype)\n"
   ]
  },
  {
   "cell_type": "code",
   "execution_count": 42,
   "id": "88f37895",
   "metadata": {},
   "outputs": [
    {
     "data": {
      "text/plain": [
       "Exited\n",
       "0    7963\n",
       "1    2037\n",
       "Name: count, dtype: int64"
      ]
     },
     "execution_count": 42,
     "metadata": {},
     "output_type": "execute_result"
    }
   ],
   "source": [
    "df_semduplicados['Exited'].value_counts()"
   ]
  },
  {
   "cell_type": "markdown",
   "id": "478c56c9",
   "metadata": {},
   "source": [
    "7.963 clientes permaneceram com a conta e 2.037 cancelaram."
   ]
  },
  {
   "cell_type": "markdown",
   "id": "c2ed8be3",
   "metadata": {},
   "source": [
    "O conjunto de dados está balanceado em relação à variável alvo? (Ou seja, há uma quantidade parecida de \"sim\" e \"não\"?)."
   ]
  },
  {
   "cell_type": "markdown",
   "id": "8f12c591",
   "metadata": {},
   "source": [
    " 79.6% de clientes permaneceram e 20.4% cancelaram. Proporção de aproximadamente 80/20. Isso significa que, para cada cliente que cancelou, existem quase quatro que permaneceram.\n",
    "\n",
    "O Que Significa \"Balanceado\"?\n",
    "Um conjunto de dados perfeitamente balanceado teria uma proporção de 50/50 Geralmente, proporções até 60/40 ou 70/30 são consideradas levemente desbalanceadas, mas ainda manejáveis.\n",
    "\n",
    "Uma proporção de 80/20 já é um desbalanceamento claro e que requer atenção. Proporções mais extremas (95/5, 99/1) são consideradas severamente desbalanceadas.\n",
    "\n",
    "Por Que Isso é Importante? (A Consequência)\n",
    "O fato de os dados serem desbalanceados tem uma implicação muito séria, principalmente se o seu objetivo for construir um modelo de Machine Learning para prever o churn (cancelamento).\n",
    "\n",
    "O Risco: Um modelo treinado com esses dados pode ficar \"preguiçoso\" e aprender que a melhor estratégia para acertar na maioria das vezes é simplesmente prever que nenhum cliente vai cancelar. Se ele fizesse isso, ele teria uma precisão (acurácia) de 79.6%, o que parece bom, mas na prática o modelo seria completamente inútil, pois ele falharia em identificar o que é mais importante para o negócio: os clientes que estão prestes a sair.\n",
    "\n",
    "O Que Fazer a Respeito?\n",
    "Saber que seus dados são desbalanceados é o primeiro passo. Mais adiante, na fase de modelagem, existem técnicas específicas para lidar com isso, como:\n",
    "\n",
    "Resampling: Técnicas como Oversampling (criar cópias sintéticas da classe minoritária, com o algoritmo SMOTE) ou Undersampling (reduzir o número de exemplos da classe majoritária).\n",
    "\n",
    "Métricas de Avaliação Corretas: Em vez de usar apenas a acurácia, você deverá focar em métricas como Precisão, Recall, F1-Score e a Área Sob a Curva ROC (AUC), que dão uma visão melhor do desempenho do modelo em dados desbalanceados.\n",
    "\n",
    "Ajuste de Pesos no Modelo: Muitos algoritmos permitem que você atribua um \"peso\" maior para os erros cometidos na classe minoritária, forçando o modelo a prestar mais atenção nela."
   ]
  },
  {
   "cell_type": "markdown",
   "id": "0c03ce0e",
   "metadata": {},
   "source": [
    "Quantos clientes existem em cada país (Geography)? Qual é o país mais representativo?"
   ]
  },
  {
   "cell_type": "code",
   "execution_count": 45,
   "id": "549c8c87",
   "metadata": {},
   "outputs": [
    {
     "data": {
      "text/plain": [
       "Geography\n",
       "France     5013\n",
       "Germany    2509\n",
       "Spain      2477\n",
       "Name: count, dtype: int64"
      ]
     },
     "execution_count": 45,
     "metadata": {},
     "output_type": "execute_result"
    }
   ],
   "source": [
    "df_semduplicados['Geography'].value_counts()"
   ]
  },
  {
   "cell_type": "markdown",
   "id": "f4902451",
   "metadata": {},
   "source": [
    "Qual é a distribuição entre homens e mulheres (Gender)?"
   ]
  },
  {
   "cell_type": "code",
   "execution_count": 47,
   "id": "3811cac6",
   "metadata": {},
   "outputs": [
    {
     "data": {
      "text/plain": [
       "Gender\n",
       "Male      5457\n",
       "Female    4543\n",
       "Name: count, dtype: int64"
      ]
     },
     "execution_count": 47,
     "metadata": {},
     "output_type": "execute_result"
    }
   ],
   "source": [
    "df_semduplicados['Gender'].value_counts()"
   ]
  },
  {
   "cell_type": "markdown",
   "id": "bb3a2b05",
   "metadata": {},
   "source": [
    "Qual a proporção de clientes que possuem cartão de crédito (HasCrCard)?"
   ]
  },
  {
   "cell_type": "code",
   "execution_count": 52,
   "id": "b5654398",
   "metadata": {},
   "outputs": [
    {
     "name": "stdout",
     "output_type": "stream",
     "text": [
      "HasCrCard\n",
      "1.0    7054\n",
      "0.0    2945\n",
      "Name: count, dtype: int64\n",
      "HasCrCard\n",
      "1.0    0.705471\n",
      "0.0    0.294529\n",
      "Name: proportion, dtype: float64\n"
     ]
    }
   ],
   "source": [
    "print(df_semduplicados['HasCrCard'].value_counts())\n",
    "print(df_semduplicados['HasCrCard'].value_counts(normalize = True))\n"
   ]
  },
  {
   "cell_type": "markdown",
   "id": "a183725d",
   "metadata": {},
   "source": [
    "Qual a proporção de clientes que são membros ativos (IsActiveMember)?"
   ]
  },
  {
   "cell_type": "code",
   "execution_count": 53,
   "id": "76a9602c",
   "metadata": {},
   "outputs": [
    {
     "data": {
      "text/plain": [
       "IsActiveMember\n",
       "1.0    0.515052\n",
       "0.0    0.484948\n",
       "Name: proportion, dtype: float64"
      ]
     },
     "execution_count": 53,
     "metadata": {},
     "output_type": "execute_result"
    }
   ],
   "source": [
    "df_semduplicados['IsActiveMember'].value_counts(normalize = True)"
   ]
  },
  {
   "cell_type": "markdown",
   "id": "0d707d2c",
   "metadata": {},
   "source": [
    "Qual é a distribuição de idade (Age) dos clientes? Crie um histograma para visualizar. Existe alguma faixa etária predominante?"
   ]
  },
  {
   "cell_type": "code",
   "execution_count": 54,
   "id": "5e56a2fd",
   "metadata": {},
   "outputs": [
    {
     "data": {
      "text/plain": [
       "count    9999.000000\n",
       "mean       38.923095\n",
       "std        10.487635\n",
       "min        18.000000\n",
       "25%        32.000000\n",
       "50%        37.000000\n",
       "75%        44.000000\n",
       "max        92.000000\n",
       "Name: Age, dtype: float64"
      ]
     },
     "execution_count": 54,
     "metadata": {},
     "output_type": "execute_result"
    }
   ],
   "source": [
    "df_semduplicados['Age'].describe()"
   ]
  },
  {
   "cell_type": "code",
   "execution_count": 78,
   "id": "be440fe9",
   "metadata": {},
   "outputs": [
    {
     "data": {
      "image/png": "[encoded data removed]",
      "text/plain": [
       "<Figure size 640x480 with 1 Axes>"
      ]
     },
     "metadata": {},
     "output_type": "display_data"
    }
   ],
   "source": [
    "sns.set_style(\"white\")\n",
    "df_semduplicados['Age'].hist(bins=10)\n",
    "plt.xlabel('Faixa de idade')\n",
    "plt.ylabel('Frequência')\n",
    "plt.show()"
   ]
  },
  {
   "cell_type": "markdown",
   "id": "777a0510",
   "metadata": {},
   "source": [
    "Há mais clientes na faixa etária de 35 a 40 anos. "
   ]
  },
  {
   "cell_type": "markdown",
   "id": "0e909ed3",
   "metadata": {},
   "source": [
    "Como o saldo em conta (Balance) está distribuído? Existem muitos clientes com saldo zerado?"
   ]
  },
  {
   "cell_type": "code",
   "execution_count": 79,
   "id": "4778d4c4",
   "metadata": {},
   "outputs": [
    {
     "data": {
      "image/png": "[encoded data removed]",
      "text/plain": [
       "<Figure size 640x480 with 1 Axes>"
      ]
     },
     "metadata": {},
     "output_type": "display_data"
    }
   ],
   "source": [
    "sns.set_style(\"white\")\n",
    "df_semduplicados['Balance'].hist(bins=10)\n",
    "plt.xlabel('Saldo')\n",
    "plt.ylabel('Frequência')\n",
    "plt.show()"
   ]
  },
  {
   "cell_type": "code",
   "execution_count": 70,
   "id": "252f52e2",
   "metadata": {},
   "outputs": [
    {
     "name": "stdout",
     "output_type": "stream",
     "text": [
      "3617\n"
     ]
    }
   ],
   "source": [
    "conta_zerada = (df_semduplicados['Balance'] == 0).sum()\n",
    "print(conta_zerada)"
   ]
  },
  {
   "cell_type": "markdown",
   "id": "266c617b",
   "metadata": {},
   "source": [
    "Qual é a distribuição do Escore de Crédito (CreditScore)? Ela se parece com uma distribuição normal (formato de sino)?"
   ]
  },
  {
   "cell_type": "code",
   "execution_count": 82,
   "id": "77043479",
   "metadata": {},
   "outputs": [
    {
     "data": {
      "image/png": "[encoded data removed]",
      "text/plain": [
       "<Figure size 640x480 with 1 Axes>"
      ]
     },
     "metadata": {},
     "output_type": "display_data"
    }
   ],
   "source": [
    "sns.set_style(\"white\")\n",
    "df_semduplicados['CreditScore'].hist(bins=10)\n",
    "plt.xlabel(\"Escore de crédito\")\n",
    "plt.ylabel(\"Frequência\")\n",
    "plt.show()"
   ]
  },
  {
   "cell_type": "markdown",
   "id": "58213251",
   "metadata": {},
   "source": [
    "Os clientes costumam ter quantos produtos (NumOfProducts)?"
   ]
  },
  {
   "cell_type": "code",
   "execution_count": 83,
   "id": "cdba8eb5",
   "metadata": {},
   "outputs": [
    {
     "data": {
      "text/plain": [
       "NumOfProducts\n",
       "1    5084\n",
       "2    4590\n",
       "3     266\n",
       "4      60\n",
       "Name: count, dtype: int64"
      ]
     },
     "execution_count": 83,
     "metadata": {},
     "output_type": "execute_result"
    }
   ],
   "source": [
    "df_semduplicados['NumOfProducts'].value_counts()"
   ]
  },
  {
   "cell_type": "code",
   "execution_count": 87,
   "id": "07513c71",
   "metadata": {},
   "outputs": [
    {
     "data": {
      "image/png": "[encoded data removed]",
      "text/plain": [
       "<Figure size 640x480 with 1 Axes>"
      ]
     },
     "metadata": {},
     "output_type": "display_data"
    }
   ],
   "source": [
    "sns.set_style(\"white\")\n",
    "df_semduplicados['NumOfProducts'].hist(bins=4)\n",
    "plt.show()"
   ]
  },
  {
   "cell_type": "markdown",
   "id": "bd048cb1",
   "metadata": {},
   "source": [
    "A variável tempo de vínculo com o banco (Tenure) tem uma distribuição uniforme?"
   ]
  },
  {
   "cell_type": "code",
   "execution_count": 89,
   "id": "74b3cb3b",
   "metadata": {},
   "outputs": [
    {
     "data": {
      "image/png": "[encoded data removed]",
      "text/plain": [
       "<Figure size 640x480 with 1 Axes>"
      ]
     },
     "metadata": {},
     "output_type": "display_data"
    }
   ],
   "source": [
    "sns.set_style(\"white\")\n",
    "df_semduplicados['Tenure'].hist(bins=20)\n",
    "plt.show()"
   ]
  },
  {
   "cell_type": "markdown",
   "id": "48195922",
   "metadata": {},
   "source": [
    "A taxa de churn varia entre os países (Geography)? Qual país tem a maior taxa de cancelamento?"
   ]
  },
  {
   "cell_type": "code",
   "execution_count": 104,
   "id": "ae6c3e9b",
   "metadata": {},
   "outputs": [
    {
     "name": "stdout",
     "output_type": "stream",
     "text": [
      "Geography  Exited\n",
      "France     0         0.838420\n",
      "           1         0.161580\n",
      "Germany    0         0.675568\n",
      "           1         0.324432\n",
      "Spain      0         0.833266\n",
      "           1         0.166734\n",
      "Name: proportion, dtype: float64\n"
     ]
    }
   ],
   "source": [
    "churn_paises = df_semduplicados.groupby('Geography')['Exited'].value_counts(normalize=True)\n",
    "print(churn_paises)"
   ]
  },
  {
   "cell_type": "markdown",
   "id": "8d3fd0cb",
   "metadata": {},
   "source": [
    "Sim, há variação da taxa de cancelamento da conta entre os 3 países. A Alemanha é o pais com maior taxa de cancelamento, já França e Espanha possuem a mesma taxa de cancelamento. "
   ]
  },
  {
   "cell_type": "markdown",
   "id": "b0fb52ce",
   "metadata": {},
   "source": [
    "Existe diferença na taxa de churn entre homens e mulheres (Gender)?"
   ]
  },
  {
   "cell_type": "code",
   "execution_count": 107,
   "id": "e26df5d3",
   "metadata": {},
   "outputs": [
    {
     "name": "stdout",
     "output_type": "stream",
     "text": [
      "Gender  Exited\n",
      "Female  0         0.749285\n",
      "        1         0.250715\n",
      "Male    0         0.835441\n",
      "        1         0.164559\n",
      "Name: proportion, dtype: float64\n"
     ]
    }
   ],
   "source": [
    "churn_genero = df_semduplicados.groupby('Gender')['Exited'].value_counts(normalize=True)\n",
    "print(churn_genero)"
   ]
  },
  {
   "cell_type": "markdown",
   "id": "c9888427",
   "metadata": {},
   "source": [
    "Sim, existe diferença. As mulheres cancelam mais que os homens. "
   ]
  },
  {
   "cell_type": "markdown",
   "id": "39bf3abc",
   "metadata": {},
   "source": [
    "Clientes com maior CreditScore tendem a cancelar menos? (Use um boxplot para comparar a distribuição de CreditScore para quem saiu e quem ficou)."
   ]
  },
  {
   "cell_type": "code",
   "execution_count": null,
   "id": "7bb8e1ba",
   "metadata": {},
   "outputs": [
    {
     "name": "stdout",
     "output_type": "stream",
     "text": [
      "Exited\n",
      "0    651.853196\n",
      "1    645.351497\n",
      "Name: CreditScore, dtype: float64\n"
     ]
    }
   ],
   "source": [
    "churn_credit_score = df_semduplicados.groupby('Exited')['CreditScore'].mean()\n",
    "print(churn_credit_score)\n"
   ]
  },
  {
   "cell_type": "code",
   "execution_count": 113,
   "id": "371d3538",
   "metadata": {},
   "outputs": [
    {
     "data": {
      "image/png": "[encoded data removed]",
      "text/plain": [
       "<Figure size 640x480 with 1 Axes>"
      ]
     },
     "metadata": {},
     "output_type": "display_data"
    }
   ],
   "source": [
    "\n",
    "sns.boxplot(x='Exited', y='CreditScore', data=df_semduplicados)\n",
    "plt.title('Boxplot de Escore de Crédito')\n",
    "plt.xlabel('Churn (0 = Não cancelou, 1 = Cancelou)')\n",
    "plt.ylabel('Escore')\n",
    "plt.show()"
   ]
  },
  {
   "cell_type": "markdown",
   "id": "020c2a9d",
   "metadata": {},
   "source": [
    "Não há grandes diferenças entre o cancelamento e o escore de crédito. "
   ]
  },
  {
   "cell_type": "markdown",
   "id": "1ccb69c5",
   "metadata": {},
   "source": [
    "Existe uma faixa de idade (Age) que tem uma propensão maior a cancelar a conta?"
   ]
  },
  {
   "cell_type": "code",
   "execution_count": 114,
   "id": "09b700d5",
   "metadata": {},
   "outputs": [
    {
     "data": {
      "image/png": "[encoded data removed]",
      "text/plain": [
       "<Figure size 640x480 with 1 Axes>"
      ]
     },
     "metadata": {},
     "output_type": "display_data"
    }
   ],
   "source": [
    "sns.boxplot(x='Exited', y='Age', data=df_semduplicados)\n",
    "plt.title(\"Idade e cancelamento da conta\")\n",
    "plt.xlabel(\"Churn (0 = Não cancelou, 1=Cancelou)\")\n",
    "plt.ylabel(\"Idade\")\n",
    "plt.show()"
   ]
  },
  {
   "cell_type": "markdown",
   "id": "527f3bc0",
   "metadata": {},
   "source": [
    "Clientes na faixa de idade entre 40 e 50 anos cancelam mais que os que têm entre 30 a 40 anos. "
   ]
  },
  {
   "cell_type": "markdown",
   "id": "0ffd5fe3",
   "metadata": {},
   "source": [
    "Clientes com saldo (Balance) muito alto ou muito baixo cancelam mais?"
   ]
  },
  {
   "cell_type": "code",
   "execution_count": 118,
   "id": "ee00bccd",
   "metadata": {},
   "outputs": [
    {
     "data": {
      "image/png": "[encoded data removed]",
      "text/plain": [
       "<Figure size 640x480 with 1 Axes>"
      ]
     },
     "metadata": {},
     "output_type": "display_data"
    }
   ],
   "source": [
    "sns.set_style(\"white\")\n",
    "sns.boxplot(x='Exited', y ='Balance', data=df_semduplicados)\n",
    "plt.title(\"Saldo Atual e cancelamento\")\n",
    "plt.xlabel(\"Churn(0=Não cencelou, 1=Cancelou)\")\n",
    "plt.ylabel(\"Saldo atual\")\n",
    "plt.show()"
   ]
  },
  {
   "cell_type": "markdown",
   "id": "1829f491",
   "metadata": {},
   "source": [
    "A análise do boxplot mostra que não há uma relação clara entre saldos muito baixos e a taxa de cancelamento. No entanto, a distribuição do saldo para clientes que cancelaram a conta está significativamente concentrada em valores mais altos. A mediana do saldo é maior para o grupo que cancelou, indicando que clientes com saldos mais elevados tendem a ter uma taxa de cancelamento maior."
   ]
  },
  {
   "cell_type": "markdown",
   "id": "f5038d15",
   "metadata": {},
   "source": [
    "Ser um membro ativo (IsActiveMember) tem um impacto significativo na retenção de clientes?"
   ]
  },
  {
   "cell_type": "code",
   "execution_count": 121,
   "id": "a4f53b68",
   "metadata": {},
   "outputs": [
    {
     "data": {
      "text/plain": [
       "IsActiveMember  Exited\n",
       "0.0             0         0.731491\n",
       "                1         0.268509\n",
       "1.0             0         0.857282\n",
       "                1         0.142718\n",
       "Name: proportion, dtype: float64"
      ]
     },
     "execution_count": 121,
     "metadata": {},
     "output_type": "execute_result"
    }
   ],
   "source": [
    "df_semduplicados.groupby(\"IsActiveMember\")['Exited'].value_counts(normalize=True)"
   ]
  },
  {
   "cell_type": "markdown",
   "id": "993927e0",
   "metadata": {},
   "source": [
    "Sim. É possível perceber que a taxa de cancelamento entre os que são inativos é aproximadente o dobro do que entre os que cancelaram e eram ativos (26% x 14%)."
   ]
  },
  {
   "cell_type": "markdown",
   "id": "0d72555b",
   "metadata": {},
   "source": [
    "O número de produtos (NumOfProducts) que um cliente possui influencia sua decisão de sair? E o tempo de contrato (Tenure)?"
   ]
  },
  {
   "cell_type": "code",
   "execution_count": 123,
   "id": "96ca0d97",
   "metadata": {},
   "outputs": [
    {
     "data": {
      "text/plain": [
       "NumOfProducts  Exited\n",
       "1              0         0.722856\n",
       "               1         0.277144\n",
       "2              0         0.924183\n",
       "               1         0.075817\n",
       "3              1         0.827068\n",
       "               0         0.172932\n",
       "4              1         1.000000\n",
       "Name: proportion, dtype: float64"
      ]
     },
     "execution_count": 123,
     "metadata": {},
     "output_type": "execute_result"
    }
   ],
   "source": [
    "df_semduplicados.groupby('NumOfProducts')['Exited'].value_counts(normalize=True)"
   ]
  },
  {
   "cell_type": "markdown",
   "id": "2d970ff8",
   "metadata": {},
   "source": [
    "Sim. O número de produtos influencia a decisão de sair. A taxa de churn foi maior entre os que tinham 3 ou 4 produtos na carteira. Entao, ter mais de 2 produtos aumenta a chance de cancelar a conta. "
   ]
  },
  {
   "cell_type": "code",
   "execution_count": 126,
   "id": "1ad316bb",
   "metadata": {},
   "outputs": [
    {
     "data": {
      "image/png": "[encoded data removed]",
      "text/plain": [
       "<Figure size 640x480 with 1 Axes>"
      ]
     },
     "metadata": {},
     "output_type": "display_data"
    }
   ],
   "source": [
    "sns.set_style(\"white\")\n",
    "sns.boxplot(x='Exited', y ='Tenure', data=df_semduplicados)\n",
    "plt.title(\"Tempo de vínculo e cancelamento\")\n",
    "plt.xlabel(\"Churn(0=Não cancelou, 1=Cancelou)\")\n",
    "plt.ylabel(\"Anos\")\n",
    "plt.show()"
   ]
  },
  {
   "cell_type": "markdown",
   "id": "b9cc5d52",
   "metadata": {},
   "source": [
    "Não há uma tendência clara de que clientes mais novos ou mais antigos cancelem mais."
   ]
  },
  {
   "cell_type": "markdown",
   "id": "4a3a9cf3",
   "metadata": {},
   "source": [
    "Baseado em suas análises, você consegue montar um \"perfil\" do cliente com maior probabilidade de cancelar a conta? (Ex: \"Clientes da Alemanha, com idade entre 40-50 anos, com 2 produtos...\")."
   ]
  },
  {
   "cell_type": "markdown",
   "id": "586dffbe",
   "metadata": {},
   "source": [
    "O cliente com maior probabilidade de cancelar a conta tem entre 40 e 50 anos, possui mais de 2 produtos na carteira, é um cliente inativo, reside na Alemanha. "
   ]
  }
 ],
 "metadata": {
  "kernelspec": {
   "display_name": "base",
   "language": "python",
   "name": "python3"
  },
  "language_info": {
   "codemirror_mode": {
    "name": "ipython",
    "version": 3
   },
   "file_extension": ".py",
   "mimetype": "text/x-python",
   "name": "python",
   "nbconvert_exporter": "python",
   "pygments_lexer": "ipython3",
   "version": "3.13.5"
  }
 },
 "nbformat": 4,
 "nbformat_minor": 5
}
